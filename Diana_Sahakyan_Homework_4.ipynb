{
  "nbformat": 4,
  "nbformat_minor": 0,
  "metadata": {
    "colab": {
      "provenance": []
    },
    "kernelspec": {
      "name": "python3",
      "display_name": "Python 3"
    },
    "language_info": {
      "name": "python"
    }
  },
  "cells": [
    {
      "cell_type": "code",
      "execution_count": null,
      "metadata": {
        "id": "OdoG1psMgTm-"
      },
      "outputs": [],
      "source": [
        "import pandas as pd\n",
        "import sqlite3\n",
        "import matplotlib.pyplot as plt\n",
        "import seaborn as sns\n",
        "import plotly.express as px"
      ]
    },
    {
      "cell_type": "code",
      "source": [
        "# Here we connect to the 'movies.sqlite' database where all our movie data is stored\n",
        "conn = sqlite3.connect(\"movies.sqlite\")\n",
        "cur = conn.cursor()"
      ],
      "metadata": {
        "id": "y5pz1o_bgZNX"
      },
      "execution_count": null,
      "outputs": []
    },
    {
      "cell_type": "code",
      "source": [
        "# Let's query the database to get movie-related data for our visualizations. We’ll focus on budget, revenue, popularity, and release date\n",
        "query = \"SELECT budget, revenue, popularity, release_date FROM movies WHERE budget IS NOT NULL AND revenue IS NOT NULL AND popularity IS NOT NULL;\"\n",
        "movie_data = pd.read_sql(query, conn)"
      ],
      "metadata": {
        "id": "L067NKlsgcCY"
      },
      "execution_count": null,
      "outputs": []
    },
    {
      "cell_type": "code",
      "source": [
        "# In this step, we create a histogram to explore the distribution of movie budgets\n",
        "plt.figure(figsize=(10, 6))\n",
        "plt.hist(movie_data['budget'], bins=50, color='lightcoral', edgecolor='black')\n",
        "plt.title('Movie Budget Distribution')\n",
        "plt.xlabel('Budget in USD')\n",
        "plt.ylabel('Frequency')\n",
        "plt.grid(True)\n",
        "plt.show()\n",
        "\n",
        "# Comment: The histogram displays how movie budgets are spread out across all movies in the dataset. We can spot any budget outliers in the data."
      ],
      "metadata": {
        "id": "eLZYYUQageTf"
      },
      "execution_count": null,
      "outputs": []
    },
    {
      "cell_type": "code",
      "source": [
        "# A heatmap will help us visualize the relationships between the movie features (budget, revenue, popularity)\n",
        "corr = movie_data.corr()\n",
        "\n",
        "plt.figure(figsize=(8, 6))\n",
        "sns.heatmap(corr, annot=True, cmap='viridis', fmt='.2f', linewidths=1)\n",
        "plt.title('Correlation Between Budget, Revenue, and Popularity')\n",
        "plt.show()\n",
        "\n",
        "# Comment: The heatmap shows how features like budget, revenue, and popularity correlate with each other. Positive correlations are highlighted, which can give us insights into trends."
      ],
      "metadata": {
        "id": "mpbL2FosghZ4"
      },
      "execution_count": null,
      "outputs": []
    },
    {
      "cell_type": "code",
      "source": [
        "# An interactive scatter plot helps us examine how budget and revenue are related, with the ability to zoom and explore specific points\n",
        "fig = px.scatter(movie_data, x='budget', y='revenue',\n",
        "                 title='Budget vs. Revenue for Movies',\n",
        "                 labels={'budget': 'Movie Budget ($)', 'revenue': 'Movie Revenue ($)'},\n",
        "                 hover_data=['budget', 'revenue'])\n",
        "\n",
        "fig.show()\n",
        "\n",
        "# Comment: This Plotly scatter plot lets us examine the relationship between the budgets and revenues of the movies interactively. Hovering over data points shows detailed values."
      ],
      "metadata": {
        "id": "9KKigWRYgktK"
      },
      "execution_count": null,
      "outputs": []
    },
    {
      "cell_type": "code",
      "source": [
        "# Let’s explore how the number of movies released each year has changed. This gives us an idea of the movie industry's growth.\n",
        "query_years = \"SELECT strftime('%Y', release_date) AS release_year, COUNT(*) AS movie_count FROM movies GROUP BY release_year ORDER BY release_year;\"\n",
        "movies_per_year = pd.read_sql(query_years, conn)\n",
        "plt.figure(figsize=(10, 6))\n",
        "plt.plot(movies_per_year['release_year'], movies_per_year['movie_count'], marker='x', color='purple')\n",
        "plt.title('Movies Released Per Year')\n",
        "plt.xlabel('Year')\n",
        "plt.ylabel('Count of Movies')\n",
        "plt.grid(True)\n",
        "plt.xticks(rotation=45)\n",
        "plt.show()\n",
        "\n",
        "# Comment: This line plot shows the trend in movie releases over time. It helps us see the overall growth or decline in movie production year by year."
      ],
      "metadata": {
        "id": "L1w2YxYEgx_I"
      },
      "execution_count": null,
      "outputs": []
    },
    {
      "cell_type": "code",
      "source": [
        "# We should always close the connection once we're done fetching data to prevent any issues.\n",
        "conn.close()"
      ],
      "metadata": {
        "id": "SGBI3Fg6g5Yv"
      },
      "execution_count": null,
      "outputs": []
    }
  ]
}